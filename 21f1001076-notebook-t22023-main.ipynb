{
 "cells": [
  {
   "cell_type": "code",
   "execution_count": 1,
   "id": "25379039",
   "metadata": {
    "_cell_guid": "b1076dfc-b9ad-4769-8c92-a6c4dae69d19",
    "_uuid": "8f2839f25d086af736a60e9eeb907d3b93b6e0e5",
    "execution": {
     "iopub.execute_input": "2023-08-13T12:41:52.976570Z",
     "iopub.status.busy": "2023-08-13T12:41:52.976133Z",
     "iopub.status.idle": "2023-08-13T12:41:52.993145Z",
     "shell.execute_reply": "2023-08-13T12:41:52.991676Z"
    },
    "papermill": {
     "duration": 0.038031,
     "end_time": "2023-08-13T12:41:52.995467",
     "exception": false,
     "start_time": "2023-08-13T12:41:52.957436",
     "status": "completed"
    },
    "tags": []
   },
   "outputs": [
    {
     "name": "stdout",
     "output_type": "stream",
     "text": [
      "/kaggle/input/sentiment-prediction-on-movie-reviews/movies.csv\n",
      "/kaggle/input/sentiment-prediction-on-movie-reviews/sample.csv\n",
      "/kaggle/input/sentiment-prediction-on-movie-reviews/train.csv\n",
      "/kaggle/input/sentiment-prediction-on-movie-reviews/test.csv\n"
     ]
    }
   ],
   "source": [
    "# This Python 3 environment comes with many helpful analytics libraries installed\n",
    "# It is defined by the kaggle/python Docker image: https://github.com/kaggle/docker-python\n",
    "# For example, here's several helpful packages to load\n",
    "\n",
    "import numpy as np # linear algebra\n",
    "import pandas as pd # data processing, CSV file I/O (e.g. pd.read_csv)\n",
    "\n",
    "# Input data files are available in the read-only \"../input/\" directory\n",
    "# For example, running this (by clicking run or pressing Shift+Enter) will list all files under the input directory\n",
    "\n",
    "import os\n",
    "for dirname, _, filenames in os.walk('/kaggle/input'):\n",
    "    for filename in filenames:\n",
    "        print(os.path.join(dirname, filename))\n",
    "\n",
    "# You can write up to 20GB to the current directory (/kaggle/working/) that gets preserved as output when you create a version using \"Save & Run All\" \n",
    "# You can also write temporary files to /kaggle/temp/, but they won't be saved outside of the current session"
   ]
  },
  {
   "cell_type": "markdown",
   "id": "0a7f1030",
   "metadata": {
    "papermill": {
     "duration": 0.015751,
     "end_time": "2023-08-13T12:41:53.028123",
     "exception": false,
     "start_time": "2023-08-13T12:41:53.012372",
     "status": "completed"
    },
    "tags": []
   },
   "source": [
    "# ****Loading The Dataset****"
   ]
  },
  {
   "cell_type": "markdown",
   "id": "d00ecc62",
   "metadata": {
    "papermill": {
     "duration": 0.016115,
     "end_time": "2023-08-13T12:41:53.060175",
     "exception": false,
     "start_time": "2023-08-13T12:41:53.044060",
     "status": "completed"
    },
    "tags": []
   },
   "source": [
    "> In This Section :\n",
    "> \n",
    "> 1. Loaded all CSV files into DataFrames,merged(left outer join) movies_data(metadata of movies) containing features like :\n",
    "> * ('movieid','title','audienceScore','rating','ratingContents','releaseDateTheaters','releaseDateStreaming','runtimeMinutes','genre','originalLanguage','director', 'boxOffice', 'distributor','soundType')\n",
    "> \n",
    ">    with train and test data containing features like :\n",
    "> * ('movieid','reviewerName','isFrequentReviewer','reviewText','sentiment') and ('movieid','reviewerName','isTopCritic','reviewText') respectively.\n",
    "> \n",
    "> 2. Dropped Duplicate Rows(rows with same values for all fatures and rows with same movieid seperately) From Movies.csv Before Merging DataFrames.\n",
    "> \n",
    "> 3. Dropped Null Rows From Merged Dataset (rows for which no. of null features in range(8,11)."
   ]
  },
  {
   "cell_type": "code",
   "execution_count": 2,
   "id": "7a75c19a",
   "metadata": {
    "execution": {
     "iopub.execute_input": "2023-08-13T12:41:53.094590Z",
     "iopub.status.busy": "2023-08-13T12:41:53.094096Z",
     "iopub.status.idle": "2023-08-13T12:41:55.727377Z",
     "shell.execute_reply": "2023-08-13T12:41:55.725879Z"
    },
    "papermill": {
     "duration": 2.653911,
     "end_time": "2023-08-13T12:41:55.730353",
     "exception": false,
     "start_time": "2023-08-13T12:41:53.076442",
     "status": "completed"
    },
    "tags": []
   },
   "outputs": [],
   "source": [
    "#movies.csv - the file with metadata on movies.\n",
    "movies_data = pd.read_csv(\"/kaggle/input/sentiment-prediction-on-movie-reviews/movies.csv\") \n",
    "#train.csv - the training set containing the review sentiment along with other features.\n",
    "train_data = pd.read_csv(\"/kaggle/input/sentiment-prediction-on-movie-reviews/train.csv\")\n",
    "#test.csv - the test set, has review features, but no sentiment column, since it is the target.\n",
    "test_data = pd.read_csv(\"/kaggle/input/sentiment-prediction-on-movie-reviews/test.csv\")"
   ]
  },
  {
   "cell_type": "code",
   "execution_count": 3,
   "id": "b765c2b4",
   "metadata": {
    "execution": {
     "iopub.execute_input": "2023-08-13T12:41:55.766562Z",
     "iopub.status.busy": "2023-08-13T12:41:55.765963Z",
     "iopub.status.idle": "2023-08-13T12:41:56.251220Z",
     "shell.execute_reply": "2023-08-13T12:41:56.250074Z"
    },
    "papermill": {
     "duration": 0.506298,
     "end_time": "2023-08-13T12:41:56.254191",
     "exception": false,
     "start_time": "2023-08-13T12:41:55.747893",
     "status": "completed"
    },
    "tags": []
   },
   "outputs": [],
   "source": [
    "#dropping redundant rows i.e. rows same values for all features from movies.csv and copying dataset into new variable .\n",
    "dist_movdat = movies_data.drop_duplicates()\n",
    "#further removing redundant rows using values of feature 'movieid' and keeping only last 'movieid' and respective feature.\n",
    "dist_movdat = dist_movdat.drop_duplicates(subset =['movieid'],keep = 'last' )"
   ]
  },
  {
   "cell_type": "code",
   "execution_count": 4,
   "id": "3d876639",
   "metadata": {
    "execution": {
     "iopub.execute_input": "2023-08-13T12:41:56.288175Z",
     "iopub.status.busy": "2023-08-13T12:41:56.287803Z",
     "iopub.status.idle": "2023-08-13T12:41:56.703124Z",
     "shell.execute_reply": "2023-08-13T12:41:56.701944Z"
    },
    "papermill": {
     "duration": 0.43552,
     "end_time": "2023-08-13T12:41:56.705865",
     "exception": false,
     "start_time": "2023-08-13T12:41:56.270345",
     "status": "completed"
    },
    "tags": []
   },
   "outputs": [],
   "source": [
    "#merging train and test datasets with movie data on 'movieid' seperately.\n",
    "train_movdat = train_data.merge(dist_movdat,on = 'movieid',how ='left')\n",
    "test_data_mov= test_data.merge(dist_movdat,on = 'movieid',how ='left')"
   ]
  },
  {
   "cell_type": "code",
   "execution_count": 5,
   "id": "c4d47a5b",
   "metadata": {
    "execution": {
     "iopub.execute_input": "2023-08-13T12:41:56.740721Z",
     "iopub.status.busy": "2023-08-13T12:41:56.739593Z",
     "iopub.status.idle": "2023-08-13T12:41:57.004935Z",
     "shell.execute_reply": "2023-08-13T12:41:57.003649Z"
    },
    "papermill": {
     "duration": 0.285898,
     "end_time": "2023-08-13T12:41:57.007784",
     "exception": false,
     "start_time": "2023-08-13T12:41:56.721886",
     "status": "completed"
    },
    "tags": []
   },
   "outputs": [],
   "source": [
    "\"\"\"for i in range(8,12):\n",
    "    #dropping rows with null columns count 10 or 11.\n",
    "    num_required_nan = i\n",
    "    # Count the number of NaN values in each row\n",
    "    subs = train_movdat[train_movdat.sentiment == \"NEGATIVE\"]\n",
    "    nan_counts = subs.isna().sum(axis=1)\n",
    "    # Filter the rows where the count of NaN values is equal to or greater than the specified number\n",
    "    filtered_rows = subs[nan_counts >= num_required_nan]\n",
    "    # Get the row indexes of the filtered rows\n",
    "    required_nan_idx= filtered_rows.index\"\"\"\n",
    "    # dropping the rows with null values on reviewText\n",
    "train_movdat.dropna(subset =['reviewText'],inplace = True)\n",
    "train_movdat.reset_index(drop=True,inplace = True)"
   ]
  },
  {
   "cell_type": "code",
   "execution_count": 6,
   "id": "c0d1d91f",
   "metadata": {
    "execution": {
     "iopub.execute_input": "2023-08-13T12:41:57.044335Z",
     "iopub.status.busy": "2023-08-13T12:41:57.043855Z",
     "iopub.status.idle": "2023-08-13T12:41:57.052323Z",
     "shell.execute_reply": "2023-08-13T12:41:57.051248Z"
    },
    "papermill": {
     "duration": 0.0298,
     "end_time": "2023-08-13T12:41:57.054775",
     "exception": false,
     "start_time": "2023-08-13T12:41:57.024975",
     "status": "completed"
    },
    "tags": []
   },
   "outputs": [
    {
     "data": {
      "text/plain": [
       "(156311, 18)"
      ]
     },
     "execution_count": 6,
     "metadata": {},
     "output_type": "execute_result"
    }
   ],
   "source": [
    "train_movdat.shape"
   ]
  },
  {
   "cell_type": "markdown",
   "id": "9e8f4c84",
   "metadata": {
    "papermill": {
     "duration": 0.015994,
     "end_time": "2023-08-13T12:41:57.087160",
     "exception": false,
     "start_time": "2023-08-13T12:41:57.071166",
     "status": "completed"
    },
    "tags": []
   },
   "source": [
    "# ****Exploratory Data Analysis****"
   ]
  },
  {
   "cell_type": "markdown",
   "id": "d25a1b4b",
   "metadata": {
    "papermill": {
     "duration": 0.016492,
     "end_time": "2023-08-13T12:41:57.119946",
     "exception": false,
     "start_time": "2023-08-13T12:41:57.103454",
     "status": "completed"
    },
    "tags": []
   },
   "source": [
    "> **Exploratory Data Analysis (EDA) is an approach that is used to analyze the data and discover trends, patterns, or check assumptions in data with the help of statistical summaries and graphical representations.**\n",
    "\n",
    "> In This Section,relationship between categorical and numerical features from merged train dataframe were analysed and visualised using plots and graphs."
   ]
  },
  {
   "cell_type": "code",
   "execution_count": 7,
   "id": "1d579421",
   "metadata": {
    "execution": {
     "iopub.execute_input": "2023-08-13T12:41:57.154942Z",
     "iopub.status.busy": "2023-08-13T12:41:57.154474Z",
     "iopub.status.idle": "2023-08-13T12:41:58.822579Z",
     "shell.execute_reply": "2023-08-13T12:41:58.821466Z"
    },
    "papermill": {
     "duration": 1.689454,
     "end_time": "2023-08-13T12:41:58.825707",
     "exception": false,
     "start_time": "2023-08-13T12:41:57.136253",
     "status": "completed"
    },
    "tags": []
   },
   "outputs": [],
   "source": [
    "#importing necessary libraries for data visualisations.\n",
    "import seaborn as sns\n",
    "import matplotlib.pyplot as plt"
   ]
  },
  {
   "cell_type": "markdown",
   "id": "9326f21c",
   "metadata": {
    "papermill": {
     "duration": 0.016173,
     "end_time": "2023-08-13T12:41:58.861808",
     "exception": false,
     "start_time": "2023-08-13T12:41:58.845635",
     "status": "completed"
    },
    "tags": []
   },
   "source": [
    "> Information Below suggests that : \n",
    "> * Train data (before merging) has 4 categorical features of object datatypes and 1 Boolean feature.\n",
    "> * Movies Meta Data has 14 categorical features of object datatypes and 2 float64 (numerical) features and alot Null Values."
   ]
  },
  {
   "cell_type": "code",
   "execution_count": 8,
   "id": "61079efd",
   "metadata": {
    "execution": {
     "iopub.execute_input": "2023-08-13T12:41:58.897819Z",
     "iopub.status.busy": "2023-08-13T12:41:58.896915Z",
     "iopub.status.idle": "2023-08-13T12:41:59.619693Z",
     "shell.execute_reply": "2023-08-13T12:41:59.618713Z"
    },
    "papermill": {
     "duration": 0.743917,
     "end_time": "2023-08-13T12:41:59.622128",
     "exception": false,
     "start_time": "2023-08-13T12:41:58.878211",
     "status": "completed"
    },
    "tags": []
   },
   "outputs": [
    {
     "name": "stdout",
     "output_type": "stream",
     "text": [
      "<class 'pandas.core.frame.DataFrame'>\n",
      "RangeIndex: 162758 entries, 0 to 162757\n",
      "Data columns (total 5 columns):\n",
      " #   Column              Non-Null Count   Dtype \n",
      "---  ------              --------------   ----- \n",
      " 0   movieid             162758 non-null  object\n",
      " 1   reviewerName        162758 non-null  object\n",
      " 2   isFrequentReviewer  162758 non-null  bool  \n",
      " 3   reviewText          156311 non-null  object\n",
      " 4   sentiment           162758 non-null  object\n",
      "dtypes: bool(1), object(4)\n",
      "memory usage: 5.1+ MB\n",
      "\n",
      "\n",
      "<class 'pandas.core.frame.DataFrame'>\n",
      "RangeIndex: 143258 entries, 0 to 143257\n",
      "Data columns (total 14 columns):\n",
      " #   Column                Non-Null Count   Dtype  \n",
      "---  ------                --------------   -----  \n",
      " 0   movieid               143258 non-null  object \n",
      " 1   title                 143258 non-null  object \n",
      " 2   audienceScore         73248 non-null   float64\n",
      " 3   rating                13991 non-null   object \n",
      " 4   ratingContents        13991 non-null   object \n",
      " 5   releaseDateTheaters   30773 non-null   object \n",
      " 6   releaseDateStreaming  79420 non-null   object \n",
      " 7   runtimeMinutes        129431 non-null  float64\n",
      " 8   genre                 132175 non-null  object \n",
      " 9   originalLanguage      129400 non-null  object \n",
      " 10  director              143258 non-null  object \n",
      " 11  boxOffice             14743 non-null   object \n",
      " 12  distributor           23005 non-null   object \n",
      " 13  soundType             15917 non-null   object \n",
      "dtypes: float64(2), object(12)\n",
      "memory usage: 15.3+ MB\n"
     ]
    }
   ],
   "source": [
    "#checking data types and null values in train data and movies metadata.\n",
    "train_data.info()\n",
    "print(\"\\n\")\n",
    "movies_data.info()"
   ]
  },
  {
   "cell_type": "markdown",
   "id": "d55d6f42",
   "metadata": {
    "papermill": {
     "duration": 0.016744,
     "end_time": "2023-08-13T12:41:59.655490",
     "exception": false,
     "start_time": "2023-08-13T12:41:59.638746",
     "status": "completed"
    },
    "tags": []
   },
   "source": [
    "> After deducing the information given below :\n",
    "> * It is clear now that after merging datasets the new DataFrame has 17 features and 1 Target variable.\n",
    "> * Out of 17 Features , 12 features conatins Null Values which will be treated in preprocessing stage."
   ]
  },
  {
   "cell_type": "code",
   "execution_count": 9,
   "id": "1b44d2e0",
   "metadata": {
    "execution": {
     "iopub.execute_input": "2023-08-13T12:41:59.690186Z",
     "iopub.status.busy": "2023-08-13T12:41:59.689831Z",
     "iopub.status.idle": "2023-08-13T12:42:00.425825Z",
     "shell.execute_reply": "2023-08-13T12:42:00.424240Z"
    },
    "papermill": {
     "duration": 0.756496,
     "end_time": "2023-08-13T12:42:00.428409",
     "exception": false,
     "start_time": "2023-08-13T12:41:59.671913",
     "status": "completed"
    },
    "tags": []
   },
   "outputs": [
    {
     "name": "stdout",
     "output_type": "stream",
     "text": [
      "<class 'pandas.core.frame.DataFrame'>\n",
      "RangeIndex: 156311 entries, 0 to 156310\n",
      "Data columns (total 18 columns):\n",
      " #   Column                Non-Null Count   Dtype  \n",
      "---  ------                --------------   -----  \n",
      " 0   movieid               156311 non-null  object \n",
      " 1   reviewerName          156311 non-null  object \n",
      " 2   isFrequentReviewer    156311 non-null  bool   \n",
      " 3   reviewText            156311 non-null  object \n",
      " 4   sentiment             156311 non-null  object \n",
      " 5   title                 156311 non-null  object \n",
      " 6   audienceScore         144970 non-null  float64\n",
      " 7   rating                97775 non-null   object \n",
      " 8   ratingContents        97775 non-null   object \n",
      " 9   releaseDateTheaters   123334 non-null  object \n",
      " 10  releaseDateStreaming  141056 non-null  object \n",
      " 11  runtimeMinutes        153599 non-null  float64\n",
      " 12  genre                 154056 non-null  object \n",
      " 13  originalLanguage      153143 non-null  object \n",
      " 14  director              156311 non-null  object \n",
      " 15  boxOffice             106357 non-null  object \n",
      " 16  distributor           118314 non-null  object \n",
      " 17  soundType             74516 non-null   object \n",
      "dtypes: bool(1), float64(2), object(15)\n",
      "memory usage: 20.4+ MB\n"
     ]
    }
   ],
   "source": [
    "#checking datafarame structure after merging raw train data and movies_data.\n",
    "train_movdat.info()"
   ]
  },
  {
   "cell_type": "markdown",
   "id": "f9582f43",
   "metadata": {
    "papermill": {
     "duration": 0.019054,
     "end_time": "2023-08-13T12:42:00.464848",
     "exception": false,
     "start_time": "2023-08-13T12:42:00.445794",
     "status": "completed"
    },
    "tags": []
   },
   "source": [
    "Using describe() to analyse statistics of numerical features audienceScore and runtimeMinutes on whole train_movdat(merged dataset) ,we get :\n"
   ]
  },
  {
   "cell_type": "code",
   "execution_count": 10,
   "id": "a2a021a9",
   "metadata": {
    "execution": {
     "iopub.execute_input": "2023-08-13T12:42:00.501424Z",
     "iopub.status.busy": "2023-08-13T12:42:00.500356Z",
     "iopub.status.idle": "2023-08-13T12:42:00.551206Z",
     "shell.execute_reply": "2023-08-13T12:42:00.550080Z"
    },
    "papermill": {
     "duration": 0.071795,
     "end_time": "2023-08-13T12:42:00.553655",
     "exception": false,
     "start_time": "2023-08-13T12:42:00.481860",
     "status": "completed"
    },
    "tags": []
   },
   "outputs": [
    {
     "data": {
      "text/html": [
       "<div>\n",
       "<style scoped>\n",
       "    .dataframe tbody tr th:only-of-type {\n",
       "        vertical-align: middle;\n",
       "    }\n",
       "\n",
       "    .dataframe tbody tr th {\n",
       "        vertical-align: top;\n",
       "    }\n",
       "\n",
       "    .dataframe thead th {\n",
       "        text-align: right;\n",
       "    }\n",
       "</style>\n",
       "<table border=\"1\" class=\"dataframe\">\n",
       "  <thead>\n",
       "    <tr style=\"text-align: right;\">\n",
       "      <th></th>\n",
       "      <th>audienceScore</th>\n",
       "      <th>runtimeMinutes</th>\n",
       "    </tr>\n",
       "  </thead>\n",
       "  <tbody>\n",
       "    <tr>\n",
       "      <th>count</th>\n",
       "      <td>144970.000000</td>\n",
       "      <td>153599.000000</td>\n",
       "    </tr>\n",
       "    <tr>\n",
       "      <th>mean</th>\n",
       "      <td>65.039387</td>\n",
       "      <td>106.895143</td>\n",
       "    </tr>\n",
       "    <tr>\n",
       "      <th>std</th>\n",
       "      <td>19.815337</td>\n",
       "      <td>22.538135</td>\n",
       "    </tr>\n",
       "    <tr>\n",
       "      <th>min</th>\n",
       "      <td>0.000000</td>\n",
       "      <td>3.000000</td>\n",
       "    </tr>\n",
       "    <tr>\n",
       "      <th>25%</th>\n",
       "      <td>51.000000</td>\n",
       "      <td>93.000000</td>\n",
       "    </tr>\n",
       "    <tr>\n",
       "      <th>50%</th>\n",
       "      <td>68.000000</td>\n",
       "      <td>104.000000</td>\n",
       "    </tr>\n",
       "    <tr>\n",
       "      <th>75%</th>\n",
       "      <td>81.000000</td>\n",
       "      <td>118.000000</td>\n",
       "    </tr>\n",
       "    <tr>\n",
       "      <th>max</th>\n",
       "      <td>100.000000</td>\n",
       "      <td>561.000000</td>\n",
       "    </tr>\n",
       "  </tbody>\n",
       "</table>\n",
       "</div>"
      ],
      "text/plain": [
       "       audienceScore  runtimeMinutes\n",
       "count  144970.000000   153599.000000\n",
       "mean       65.039387      106.895143\n",
       "std        19.815337       22.538135\n",
       "min         0.000000        3.000000\n",
       "25%        51.000000       93.000000\n",
       "50%        68.000000      104.000000\n",
       "75%        81.000000      118.000000\n",
       "max       100.000000      561.000000"
      ]
     },
     "execution_count": 10,
     "metadata": {},
     "output_type": "execute_result"
    }
   ],
   "source": [
    "#description of numerical features present in merged dataset.\n",
    "train_movdat.describe()"
   ]
  },
  {
   "cell_type": "markdown",
   "id": "c3e5dd31",
   "metadata": {
    "papermill": {
     "duration": 0.016987,
     "end_time": "2023-08-13T12:42:00.588336",
     "exception": false,
     "start_time": "2023-08-13T12:42:00.571349",
     "status": "completed"
    },
    "tags": []
   },
   "source": [
    "Using describe() to analyse statistics of numerical features audienceScore and runtimeMinutes on subset of train_movdat(merged dataset) where sentiments are positive and neagtive respectively,we get :"
   ]
  },
  {
   "cell_type": "code",
   "execution_count": 11,
   "id": "8b17b364",
   "metadata": {
    "execution": {
     "iopub.execute_input": "2023-08-13T12:42:00.624097Z",
     "iopub.status.busy": "2023-08-13T12:42:00.623709Z",
     "iopub.status.idle": "2023-08-13T12:42:00.718377Z",
     "shell.execute_reply": "2023-08-13T12:42:00.717255Z"
    },
    "papermill": {
     "duration": 0.115327,
     "end_time": "2023-08-13T12:42:00.720848",
     "exception": false,
     "start_time": "2023-08-13T12:42:00.605521",
     "status": "completed"
    },
    "tags": []
   },
   "outputs": [
    {
     "data": {
      "text/html": [
       "<div>\n",
       "<style scoped>\n",
       "    .dataframe tbody tr th:only-of-type {\n",
       "        vertical-align: middle;\n",
       "    }\n",
       "\n",
       "    .dataframe tbody tr th {\n",
       "        vertical-align: top;\n",
       "    }\n",
       "\n",
       "    .dataframe thead th {\n",
       "        text-align: right;\n",
       "    }\n",
       "</style>\n",
       "<table border=\"1\" class=\"dataframe\">\n",
       "  <thead>\n",
       "    <tr style=\"text-align: right;\">\n",
       "      <th></th>\n",
       "      <th>audienceScore</th>\n",
       "      <th>runtimeMinutes</th>\n",
       "    </tr>\n",
       "  </thead>\n",
       "  <tbody>\n",
       "    <tr>\n",
       "      <th>count</th>\n",
       "      <td>96930.000000</td>\n",
       "      <td>102807.000000</td>\n",
       "    </tr>\n",
       "    <tr>\n",
       "      <th>mean</th>\n",
       "      <td>69.313886</td>\n",
       "      <td>107.563366</td>\n",
       "    </tr>\n",
       "    <tr>\n",
       "      <th>std</th>\n",
       "      <td>18.512736</td>\n",
       "      <td>23.420237</td>\n",
       "    </tr>\n",
       "    <tr>\n",
       "      <th>min</th>\n",
       "      <td>0.000000</td>\n",
       "      <td>3.000000</td>\n",
       "    </tr>\n",
       "    <tr>\n",
       "      <th>25%</th>\n",
       "      <td>57.000000</td>\n",
       "      <td>94.000000</td>\n",
       "    </tr>\n",
       "    <tr>\n",
       "      <th>50%</th>\n",
       "      <td>73.000000</td>\n",
       "      <td>105.000000</td>\n",
       "    </tr>\n",
       "    <tr>\n",
       "      <th>75%</th>\n",
       "      <td>84.000000</td>\n",
       "      <td>119.000000</td>\n",
       "    </tr>\n",
       "    <tr>\n",
       "      <th>max</th>\n",
       "      <td>100.000000</td>\n",
       "      <td>561.000000</td>\n",
       "    </tr>\n",
       "  </tbody>\n",
       "</table>\n",
       "</div>"
      ],
      "text/plain": [
       "       audienceScore  runtimeMinutes\n",
       "count   96930.000000   102807.000000\n",
       "mean       69.313886      107.563366\n",
       "std        18.512736       23.420237\n",
       "min         0.000000        3.000000\n",
       "25%        57.000000       94.000000\n",
       "50%        73.000000      105.000000\n",
       "75%        84.000000      119.000000\n",
       "max       100.000000      561.000000"
      ]
     },
     "execution_count": 11,
     "metadata": {},
     "output_type": "execute_result"
    }
   ],
   "source": [
    "train_movdat[train_movdat.sentiment == 'POSITIVE'].describe()"
   ]
  },
  {
   "cell_type": "code",
   "execution_count": 12,
   "id": "83f22a3e",
   "metadata": {
    "execution": {
     "iopub.execute_input": "2023-08-13T12:42:00.758796Z",
     "iopub.status.busy": "2023-08-13T12:42:00.758031Z",
     "iopub.status.idle": "2023-08-13T12:42:00.837106Z",
     "shell.execute_reply": "2023-08-13T12:42:00.836014Z"
    },
    "papermill": {
     "duration": 0.100751,
     "end_time": "2023-08-13T12:42:00.839551",
     "exception": false,
     "start_time": "2023-08-13T12:42:00.738800",
     "status": "completed"
    },
    "tags": []
   },
   "outputs": [
    {
     "data": {
      "text/html": [
       "<div>\n",
       "<style scoped>\n",
       "    .dataframe tbody tr th:only-of-type {\n",
       "        vertical-align: middle;\n",
       "    }\n",
       "\n",
       "    .dataframe tbody tr th {\n",
       "        vertical-align: top;\n",
       "    }\n",
       "\n",
       "    .dataframe thead th {\n",
       "        text-align: right;\n",
       "    }\n",
       "</style>\n",
       "<table border=\"1\" class=\"dataframe\">\n",
       "  <thead>\n",
       "    <tr style=\"text-align: right;\">\n",
       "      <th></th>\n",
       "      <th>audienceScore</th>\n",
       "      <th>runtimeMinutes</th>\n",
       "    </tr>\n",
       "  </thead>\n",
       "  <tbody>\n",
       "    <tr>\n",
       "      <th>count</th>\n",
       "      <td>48040.000000</td>\n",
       "      <td>50792.000000</td>\n",
       "    </tr>\n",
       "    <tr>\n",
       "      <th>mean</th>\n",
       "      <td>56.414759</td>\n",
       "      <td>105.542605</td>\n",
       "    </tr>\n",
       "    <tr>\n",
       "      <th>std</th>\n",
       "      <td>19.548401</td>\n",
       "      <td>20.571519</td>\n",
       "    </tr>\n",
       "    <tr>\n",
       "      <th>min</th>\n",
       "      <td>0.000000</td>\n",
       "      <td>3.000000</td>\n",
       "    </tr>\n",
       "    <tr>\n",
       "      <th>25%</th>\n",
       "      <td>42.000000</td>\n",
       "      <td>93.000000</td>\n",
       "    </tr>\n",
       "    <tr>\n",
       "      <th>50%</th>\n",
       "      <td>56.000000</td>\n",
       "      <td>103.000000</td>\n",
       "    </tr>\n",
       "    <tr>\n",
       "      <th>75%</th>\n",
       "      <td>72.000000</td>\n",
       "      <td>116.000000</td>\n",
       "    </tr>\n",
       "    <tr>\n",
       "      <th>max</th>\n",
       "      <td>100.000000</td>\n",
       "      <td>421.000000</td>\n",
       "    </tr>\n",
       "  </tbody>\n",
       "</table>\n",
       "</div>"
      ],
      "text/plain": [
       "       audienceScore  runtimeMinutes\n",
       "count   48040.000000    50792.000000\n",
       "mean       56.414759      105.542605\n",
       "std        19.548401       20.571519\n",
       "min         0.000000        3.000000\n",
       "25%        42.000000       93.000000\n",
       "50%        56.000000      103.000000\n",
       "75%        72.000000      116.000000\n",
       "max       100.000000      421.000000"
      ]
     },
     "execution_count": 12,
     "metadata": {},
     "output_type": "execute_result"
    }
   ],
   "source": [
    "train_movdat[train_movdat.sentiment == 'NEGATIVE'].describe()"
   ]
  },
  {
   "cell_type": "code",
   "execution_count": 13,
   "id": "35bbf51e",
   "metadata": {
    "execution": {
     "iopub.execute_input": "2023-08-13T12:42:00.877795Z",
     "iopub.status.busy": "2023-08-13T12:42:00.877347Z",
     "iopub.status.idle": "2023-08-13T12:42:00.907600Z",
     "shell.execute_reply": "2023-08-13T12:42:00.906536Z"
    },
    "papermill": {
     "duration": 0.052428,
     "end_time": "2023-08-13T12:42:00.910083",
     "exception": false,
     "start_time": "2023-08-13T12:42:00.857655",
     "status": "completed"
    },
    "tags": []
   },
   "outputs": [
    {
     "data": {
      "text/plain": [
       "POSITIVE    104719\n",
       "NEGATIVE     51592\n",
       "Name: sentiment, dtype: int64"
      ]
     },
     "execution_count": 13,
     "metadata": {},
     "output_type": "execute_result"
    }
   ],
   "source": [
    "train_movdat.sentiment.value_counts()"
   ]
  },
  {
   "cell_type": "code",
   "execution_count": 14,
   "id": "cabf426e",
   "metadata": {
    "execution": {
     "iopub.execute_input": "2023-08-13T12:42:00.948719Z",
     "iopub.status.busy": "2023-08-13T12:42:00.948069Z",
     "iopub.status.idle": "2023-08-13T12:42:01.696283Z",
     "shell.execute_reply": "2023-08-13T12:42:01.695202Z"
    },
    "papermill": {
     "duration": 0.769942,
     "end_time": "2023-08-13T12:42:01.698536",
     "exception": false,
     "start_time": "2023-08-13T12:42:00.928594",
     "status": "completed"
    },
    "tags": []
   },
   "outputs": [
    {
     "data": {
      "text/plain": [
       "<Axes: xlabel='sentiment', ylabel='Count'>"
      ]
     },
     "execution_count": 14,
     "metadata": {},
     "output_type": "execute_result"
    },
    {
     "data": {
      "image/png": "[encoded data removed]",
      "text/plain": [
       "<Figure size 640x480 with 1 Axes>"
      ]
     },
     "metadata": {},
     "output_type": "display_data"
    }
   ],
   "source": [
    "#countplot of target variable 'sentiment'\n",
    "sns.histplot(train_movdat.sentiment,stat = \"count\")"
   ]
  },
  {
   "cell_type": "code",
   "execution_count": 15,
   "id": "48197074",
   "metadata": {
    "execution": {
     "iopub.execute_input": "2023-08-13T12:42:01.737813Z",
     "iopub.status.busy": "2023-08-13T12:42:01.737176Z",
     "iopub.status.idle": "2023-08-13T12:42:01.778688Z",
     "shell.execute_reply": "2023-08-13T12:42:01.777701Z"
    },
    "papermill": {
     "duration": 0.063943,
     "end_time": "2023-08-13T12:42:01.780996",
     "exception": false,
     "start_time": "2023-08-13T12:42:01.717053",
     "status": "completed"
    },
    "tags": []
   },
   "outputs": [
    {
     "data": {
      "text/plain": [
       "escape_the_terminator_tyler_durden_astonish    708\n",
       "fantasy_forrest_gump_intrigue                  245\n",
       "james_t._kirk_marty_mcfly_astonish             186\n",
       "marvelous_lara_croft_luke_skywalker            140\n",
       "michael_corleone_v_marty_mcfly_tony_stark      138\n",
       "quest_island_black_widow                       132\n",
       "luke_skywalker_harry_potter_james_t._kirk      132\n",
       "ellen_ripley_hiccup_captain_jack_sparrow       125\n",
       "the_bride_zephyr_mystique                      113\n",
       "miracle_john_wick_pirate                       112\n",
       "Name: movieid, dtype: int64"
      ]
     },
     "execution_count": 15,
     "metadata": {},
     "output_type": "execute_result"
    }
   ],
   "source": [
    "#Top 20 review counts by movieid\n",
    "train_data.movieid.value_counts().head(10)"
   ]
  },
  {
   "cell_type": "code",
   "execution_count": 16,
   "id": "ee8a53b8",
   "metadata": {
    "execution": {
     "iopub.execute_input": "2023-08-13T12:42:01.820471Z",
     "iopub.status.busy": "2023-08-13T12:42:01.820095Z",
     "iopub.status.idle": "2023-08-13T12:42:02.215119Z",
     "shell.execute_reply": "2023-08-13T12:42:02.214023Z"
    },
    "papermill": {
     "duration": 0.418176,
     "end_time": "2023-08-13T12:42:02.218007",
     "exception": false,
     "start_time": "2023-08-13T12:42:01.799831",
     "status": "completed"
    },
    "tags": []
   },
   "outputs": [
    {
     "data": {
      "image/png": "[encoded data removed]",
      "text/plain": [
       "<Figure size 1000x1000 with 1 Axes>"
      ]
     },
     "metadata": {},
     "output_type": "display_data"
    }
   ],
   "source": [
    "top_reviewer = train_data.reviewerName.value_counts().head(10)\n",
    "series = pd.Series(top_reviewer, index = top_reviewer.index)\n",
    "# creating the bar plot\n",
    "plt.figure(figsize = (10,10))\n",
    "plt.barh(series.index,series.values)\n",
    "plt.ylabel(\"Reviewer Name\")\n",
    "plt.xlabel(\"No. of total review\")\n",
    "plt.title(\"Top 10 Reviewers\")\n",
    "for index, value in enumerate(series.values):\n",
    "    plt.text(value, index,str(value))\n",
    "plt.show()"
   ]
  },
  {
   "cell_type": "code",
   "execution_count": 17,
   "id": "10f529fd",
   "metadata": {
    "execution": {
     "iopub.execute_input": "2023-08-13T12:42:02.261590Z",
     "iopub.status.busy": "2023-08-13T12:42:02.261169Z",
     "iopub.status.idle": "2023-08-13T12:42:02.529460Z",
     "shell.execute_reply": "2023-08-13T12:42:02.528229Z"
    },
    "papermill": {
     "duration": 0.291848,
     "end_time": "2023-08-13T12:42:02.531895",
     "exception": false,
     "start_time": "2023-08-13T12:42:02.240047",
     "status": "completed"
    },
    "tags": []
   },
   "outputs": [
    {
     "data": {
      "image/png": "[encoded data removed]",
      "text/plain": [
       "<Figure size 640x480 with 1 Axes>"
      ]
     },
     "metadata": {},
     "output_type": "display_data"
    }
   ],
   "source": [
    "out = train_movdat.audienceScore\n",
    "bins=[0,20,40,60,80,100]\n",
    "plt.hist(out,bins = bins,edgecolor=\"k\")\n",
    "plt.ylabel(\"Movie Count\")\n",
    "plt.xlabel(\"Audience Score(grouped)\")\n",
    "plt.show()"
   ]
  },
  {
   "cell_type": "code",
   "execution_count": 18,
   "id": "a06d6f96",
   "metadata": {
    "execution": {
     "iopub.execute_input": "2023-08-13T12:42:02.575261Z",
     "iopub.status.busy": "2023-08-13T12:42:02.574478Z",
     "iopub.status.idle": "2023-08-13T12:42:02.889262Z",
     "shell.execute_reply": "2023-08-13T12:42:02.887675Z"
    },
    "papermill": {
     "duration": 0.341008,
     "end_time": "2023-08-13T12:42:02.893135",
     "exception": false,
     "start_time": "2023-08-13T12:42:02.552127",
     "status": "completed"
    },
    "tags": []
   },
   "outputs": [
    {
     "data": {
      "image/png": "[encoded data removed]",
      "text/plain": [
       "<Figure size 600x600 with 1 Axes>"
      ]
     },
     "metadata": {},
     "output_type": "display_data"
    }
   ],
   "source": [
    "isFreqReviewer_true = len(train_movdat[train_movdat[\"isFrequentReviewer\"] == True].copy())\n",
    "isFreqReviewer_false = len(train_movdat[train_movdat[\"isFrequentReviewer\"] == False].copy())\n",
    "plt.figure(figsize =(6,6))\n",
    "plt.pie([isFreqReviewer_true,isFreqReviewer_false],labels =[\"True\",\"False\"],autopct = '%.1f%%')\n",
    "plt.title(\" Total No. of Frequent and Non-Frequent Reviewers(in Percentage)\")\n",
    "plt.legend(loc ='lower right')\n",
    "plt.show() "
   ]
  },
  {
   "cell_type": "code",
   "execution_count": 19,
   "id": "ffa8171f",
   "metadata": {
    "execution": {
     "iopub.execute_input": "2023-08-13T12:42:02.940806Z",
     "iopub.status.busy": "2023-08-13T12:42:02.940415Z",
     "iopub.status.idle": "2023-08-13T12:42:03.453144Z",
     "shell.execute_reply": "2023-08-13T12:42:03.452072Z"
    },
    "papermill": {
     "duration": 0.537615,
     "end_time": "2023-08-13T12:42:03.455776",
     "exception": false,
     "start_time": "2023-08-13T12:42:02.918161",
     "status": "completed"
    },
    "tags": []
   },
   "outputs": [
    {
     "data": {
      "image/png": "[encoded data removed]",
      "text/plain": [
       "<Figure size 640x480 with 1 Axes>"
      ]
     },
     "metadata": {},
     "output_type": "display_data"
    }
   ],
   "source": [
    "plt.scatter(train_movdat.runtimeMinutes,train_movdat.audienceScore)\n",
    "plt.xlabel(\"Runtime(in minutes)\")\n",
    "plt.ylabel(\"Audience Score(0-100)\")\n",
    "plt.show()"
   ]
  },
  {
   "cell_type": "code",
   "execution_count": 20,
   "id": "20790111",
   "metadata": {
    "execution": {
     "iopub.execute_input": "2023-08-13T12:42:03.503002Z",
     "iopub.status.busy": "2023-08-13T12:42:03.501807Z",
     "iopub.status.idle": "2023-08-13T12:42:04.132696Z",
     "shell.execute_reply": "2023-08-13T12:42:04.131612Z"
    },
    "papermill": {
     "duration": 0.656363,
     "end_time": "2023-08-13T12:42:04.135168",
     "exception": false,
     "start_time": "2023-08-13T12:42:03.478805",
     "status": "completed"
    },
    "tags": []
   },
   "outputs": [
    {
     "data": {
      "image/png": "[encoded data removed]",
      "text/plain": [
       "<Figure size 1500x400 with 2 Axes>"
      ]
     },
     "metadata": {},
     "output_type": "display_data"
    }
   ],
   "source": [
    "plt.figure(figsize = (15, 4))\n",
    "plt.subplot(1,3,1)\n",
    "sns.boxplot(x = 'sentiment', y ='audienceScore', data = train_movdat)\n",
    "plt.subplot(1,3,2)\n",
    "sns.boxplot(x = 'sentiment', y ='runtimeMinutes', data = train_movdat)\n",
    "plt.show()"
   ]
  },
  {
   "cell_type": "code",
   "execution_count": 21,
   "id": "cb28306c",
   "metadata": {
    "execution": {
     "iopub.execute_input": "2023-08-13T12:42:04.184580Z",
     "iopub.status.busy": "2023-08-13T12:42:04.183931Z",
     "iopub.status.idle": "2023-08-13T12:42:04.475588Z",
     "shell.execute_reply": "2023-08-13T12:42:04.471469Z"
    },
    "papermill": {
     "duration": 0.319714,
     "end_time": "2023-08-13T12:42:04.478559",
     "exception": false,
     "start_time": "2023-08-13T12:42:04.158845",
     "status": "completed"
    },
    "tags": []
   },
   "outputs": [
    {
     "data": {
      "image/png": "[encoded data removed]",
      "text/plain": [
       "<Figure size 640x480 with 1 Axes>"
      ]
     },
     "metadata": {},
     "output_type": "display_data"
    }
   ],
   "source": [
    "#lollipop chart for Ratings and count of movies belonging to respective rating.\n",
    "cat = train_movdat.rating.value_counts().index.values\n",
    "count = train_movdat.rating.value_counts().values\n",
    "fig, ax = plt.subplots()\n",
    "ax.vlines(cat, ymin=0, ymax=count, color='red')\n",
    "ax.scatter(cat, count, color='blue', s=100)\n",
    "plt.show()"
   ]
  },
  {
   "cell_type": "markdown",
   "id": "28910a44",
   "metadata": {
    "papermill": {
     "duration": 0.0227,
     "end_time": "2023-08-13T12:42:04.525360",
     "exception": false,
     "start_time": "2023-08-13T12:42:04.502660",
     "status": "completed"
    },
    "tags": []
   },
   "source": [
    "# ****Data Cleaning/Preprocessing****"
   ]
  },
  {
   "cell_type": "markdown",
   "id": "122487ba",
   "metadata": {
    "papermill": {
     "duration": 0.022459,
     "end_time": "2023-08-13T12:42:04.570899",
     "exception": false,
     "start_time": "2023-08-13T12:42:04.548440",
     "status": "completed"
    },
    "tags": []
   },
   "source": [
    "> In This Stage :\n",
    "> *  Merged Data was split further in X(set of features) and y(Target Variable).\n",
    "> *  Categorical Features of X are filled with NA (indicating not available) to avoid Inconsistency,ValueErrors during Model Training and Misleading   values.\n",
    "> * Rename and Changed datatypes of some features to avoid errors while transforming test data using preprocessors and to get more usefulness in algorithm.\n",
    "> * Cleaned ReviewText (document type feature containig movie reviews)by removing punctuations and digits.\n",
    "> * Extracted year from date variables to help ML model in identifying the underlying pattern.\n",
    "> * To tackle issue of NaN and NaT values in numerical features : numerical/datetime features imputed using KNNImputer.\n",
    "> * for Feature selection ,correlation matrix was used to remove strongly correlated features,in the end, Final Encoded dataset is preprocessed using OneHotEncoder,CountVectorizer and TF-IDF Vectorizer (Term Frequency - Inverse Document Frequency is a handy algorithm that uses the frequency of words to determine how relevant those words are to a given document) and combined as sparse output (Using ColumnTransformer) for Model Training/Feature Selection."
   ]
  },
  {
   "cell_type": "code",
   "execution_count": 22,
   "id": "543843cf",
   "metadata": {
    "execution": {
     "iopub.execute_input": "2023-08-13T12:42:04.617992Z",
     "iopub.status.busy": "2023-08-13T12:42:04.617622Z",
     "iopub.status.idle": "2023-08-13T12:42:04.935829Z",
     "shell.execute_reply": "2023-08-13T12:42:04.934581Z"
    },
    "papermill": {
     "duration": 0.345119,
     "end_time": "2023-08-13T12:42:04.938694",
     "exception": false,
     "start_time": "2023-08-13T12:42:04.593575",
     "status": "completed"
    },
    "tags": []
   },
   "outputs": [],
   "source": [
    "#splitting training data in X(input data) and y(label),with high NaN values.\n",
    "from sklearn.model_selection import train_test_split as tts\n",
    "X,y,test_data = train_movdat.drop(['sentiment'],axis = 1),train_movdat[\"sentiment\"],test_data_mov"
   ]
  },
  {
   "cell_type": "code",
   "execution_count": 23,
   "id": "0037fd62",
   "metadata": {
    "execution": {
     "iopub.execute_input": "2023-08-13T12:42:04.989112Z",
     "iopub.status.busy": "2023-08-13T12:42:04.988726Z",
     "iopub.status.idle": "2023-08-13T12:42:05.061936Z",
     "shell.execute_reply": "2023-08-13T12:42:05.060985Z"
    },
    "papermill": {
     "duration": 0.101375,
     "end_time": "2023-08-13T12:42:05.064624",
     "exception": false,
     "start_time": "2023-08-13T12:42:04.963249",
     "status": "completed"
    },
    "tags": []
   },
   "outputs": [],
   "source": [
    "#renaming features 'isFrequentReviewer' and 'isTopCritic' to 'isTopReviewer/Critic'\n",
    "X = X.rename(columns = {'isFrequentReviewer':'isTopReviewer/Critic'})\n",
    "test_data = test_data.rename(columns = {'isTopCritic':'isTopReviewer/Critic'})\n",
    "cat_col = ['movieid','reviewerName','isTopReviewer/Critic','reviewText','title','rating','ratingContents','releaseDateTheaters',\n",
    " 'releaseDateStreaming','genre','originalLanguage','director','distributor','soundType']\n",
    "num_col = X.select_dtypes(include=['number']).columns.tolist()"
   ]
  },
  {
   "cell_type": "code",
   "execution_count": 24,
   "id": "404d7a0e",
   "metadata": {
    "execution": {
     "iopub.execute_input": "2023-08-13T12:42:05.112247Z",
     "iopub.status.busy": "2023-08-13T12:42:05.111742Z",
     "iopub.status.idle": "2023-08-13T12:42:06.414864Z",
     "shell.execute_reply": "2023-08-13T12:42:06.413651Z"
    },
    "papermill": {
     "duration": 1.330227,
     "end_time": "2023-08-13T12:42:06.417712",
     "exception": false,
     "start_time": "2023-08-13T12:42:05.087485",
     "status": "completed"
    },
    "tags": []
   },
   "outputs": [],
   "source": [
    "#filling categorical columns with null value as 'NA' i.e. Not Available\n",
    "X[cat_col] = X[cat_col].fillna(\"\")\n",
    "test_data[cat_col] = test_data[cat_col].fillna(\"\")"
   ]
  },
  {
   "cell_type": "code",
   "execution_count": 25,
   "id": "5496e1f4",
   "metadata": {
    "execution": {
     "iopub.execute_input": "2023-08-13T12:42:06.466136Z",
     "iopub.status.busy": "2023-08-13T12:42:06.465756Z",
     "iopub.status.idle": "2023-08-13T12:42:31.327982Z",
     "shell.execute_reply": "2023-08-13T12:42:31.326745Z"
    },
    "papermill": {
     "duration": 24.890147,
     "end_time": "2023-08-13T12:42:31.330922",
     "exception": false,
     "start_time": "2023-08-13T12:42:06.440775",
     "status": "completed"
    },
    "tags": []
   },
   "outputs": [],
   "source": [
    "#cleaning reviewText feature and removing unnecessary special characters.\n",
    "import re\n",
    "\n",
    "def clean_text(data,symbol):\n",
    "    #Patterns [\"#\\S+\",\"&\\S+\"] and [\"#\\Z\",\"&\\Z\"] removes string group starting and ending with \"#\" and \"&\" respectively.\n",
    "    if symbol == '#':\n",
    "        for i in range(len(data)):\n",
    "            data[i] = re.sub(r\"#\\S+\", \"\",str(data[i]))\n",
    "        return data\n",
    "    if symbol == '#1':\n",
    "        for i in range(len(data)):\n",
    "            data[i] = re.sub(r\"#\\Z\", \"\",str(data[i]))\n",
    "        return data\n",
    "    if symbol == '&1':\n",
    "        for i in range(len(data)):\n",
    "            data[i] = re.sub(r\"&\\Z\", \"\",str(data[i]))\n",
    "        return data\n",
    "    if symbol == '&':\n",
    "        for i in range(len(data)):\n",
    "            data[i] = re.sub(r\"&\\S+\", \"\",str(data[i]))\n",
    "        return data\n",
    "    #Pattern \"[0-9]\\S|[0-9]\" removes numbers from string group.\n",
    "    if symbol == 'num':\n",
    "        for i in range(len(data)):\n",
    "            data[i] = re.sub(r\"[0-9]\\S|[0-9]\", \"\",str(data[i]))\n",
    "        return data\n",
    "    #Pattern \"(\\(.*\\))|(\\[.*\\])\" removes round and square brackets from string group.\n",
    "    if symbol == 'braces':\n",
    "        for i in range(len(data)):\n",
    "            data[i] = re.sub(r\"(\\(.*\\))|(\\[.*\\])\", \"\",str(data[i]))\n",
    "        return data\n",
    "\n",
    "strs = ['#','#1','&','&1','num','braces']\n",
    "for i in strs :\n",
    "    X[\"reviewText\"] = clean_text(X[\"reviewText\"].copy(),i)\n",
    "    test_data[\"reviewText\"] = clean_text(test_data[\"reviewText\"].copy(),i)"
   ]
  },
  {
   "cell_type": "code",
   "execution_count": 26,
   "id": "2dbdf4ac",
   "metadata": {
    "execution": {
     "iopub.execute_input": "2023-08-13T12:42:31.379852Z",
     "iopub.status.busy": "2023-08-13T12:42:31.379214Z",
     "iopub.status.idle": "2023-08-13T12:42:38.578299Z",
     "shell.execute_reply": "2023-08-13T12:42:38.577093Z"
    },
    "papermill": {
     "duration": 7.226826,
     "end_time": "2023-08-13T12:42:38.581124",
     "exception": false,
     "start_time": "2023-08-13T12:42:31.354298",
     "status": "completed"
    },
    "tags": []
   },
   "outputs": [],
   "source": [
    "#converting list of strings into comma seperated strings.\n",
    "rc_temp = X[\"ratingContents\"].copy()\n",
    "for i in range(len(rc_temp)):\n",
    "    rc_temp[i] = str(rc_temp[i]).strip('][').split(',')\n",
    "    rc_temp[i] = [string.strip('\\'\" ') for string in rc_temp[i]]\n",
    "    rc_temp[i] = ','.join(rc_temp[i])\n",
    "#X['ratingContents'] = rc_temp\n",
    "X[\"ratingContents\"] = rc_temp"
   ]
  },
  {
   "cell_type": "code",
   "execution_count": 27,
   "id": "b9b9989a",
   "metadata": {
    "execution": {
     "iopub.execute_input": "2023-08-13T12:42:38.629438Z",
     "iopub.status.busy": "2023-08-13T12:42:38.629007Z",
     "iopub.status.idle": "2023-08-13T12:42:38.940996Z",
     "shell.execute_reply": "2023-08-13T12:42:38.939695Z"
    },
    "papermill": {
     "duration": 0.339418,
     "end_time": "2023-08-13T12:42:38.943776",
     "exception": false,
     "start_time": "2023-08-13T12:42:38.604358",
     "status": "completed"
    },
    "tags": []
   },
   "outputs": [],
   "source": [
    "#converting date features i.e.'releaseDateTheaters' and'releaseDateStreaming' into datetime dtype.\n",
    "date_temp_train = X[['releaseDateTheaters','releaseDateStreaming']].copy().replace(\"NA\",'NaT').astype('datetime64[ns]')\n",
    "date_temp_test = test_data[['releaseDateTheaters','releaseDateStreaming']].copy().replace(\"NA\",'NaT').astype('datetime64[ns]')\n",
    "X['relyearT'] = date_temp_train['releaseDateTheaters'].dt.year\n",
    "X['relyearS'] =date_temp_train['releaseDateStreaming'].dt.year\n",
    "test_data['relyearT'] = date_temp_test['releaseDateTheaters'].dt.year\n",
    "test_data['relyearS'] =date_temp_test['releaseDateStreaming'].dt.year\n",
    "#dropping old date features\n",
    "X = X.drop(['releaseDateTheaters','releaseDateStreaming'],axis = 1)\n",
    "test_data = test_data.drop(['releaseDateTheaters','releaseDateStreaming'],axis = 1)"
   ]
  },
  {
   "cell_type": "code",
   "execution_count": 28,
   "id": "c1c568de",
   "metadata": {
    "execution": {
     "iopub.execute_input": "2023-08-13T12:42:38.992099Z",
     "iopub.status.busy": "2023-08-13T12:42:38.991715Z",
     "iopub.status.idle": "2023-08-13T12:42:39.355330Z",
     "shell.execute_reply": "2023-08-13T12:42:39.354189Z"
    },
    "papermill": {
     "duration": 0.390986,
     "end_time": "2023-08-13T12:42:39.358002",
     "exception": false,
     "start_time": "2023-08-13T12:42:38.967016",
     "status": "completed"
    },
    "tags": []
   },
   "outputs": [],
   "source": [
    "#cleaning 'boxOffice' feature and converting from string dtype to numerical dtype.\n",
    "char_list = ['K']\n",
    "bo_temp = X[\"boxOffice\"].copy()\n",
    "bo_temp_test = test_data[\"boxOffice\"].copy()\n",
    "bo_temp = bo_temp.str.replace('$',\"\",regex=True)\n",
    "bo_temp_test = bo_temp_test.str.replace('$',\"\",regex=True)\n",
    "\n",
    "def conv_mil_k(value):\n",
    "    if 'M' in str(value):\n",
    "        return float(value.replace('M', '')) * 1000000\n",
    "    elif 'K' in str(value):\n",
    "        return float(value.replace('K', '')) * 1000\n",
    "    elif value == np.nan:\n",
    "        return value\n",
    "bo_temp = bo_temp.apply(conv_mil_k)\n",
    "bo_temp_test = bo_temp_test.apply(conv_mil_k)\n",
    "\n",
    "X.boxOffice = bo_temp\n",
    "test_data.boxOffice = bo_temp_test"
   ]
  },
  {
   "cell_type": "code",
   "execution_count": 29,
   "id": "4977879f",
   "metadata": {
    "execution": {
     "iopub.execute_input": "2023-08-13T12:42:39.406994Z",
     "iopub.status.busy": "2023-08-13T12:42:39.406633Z",
     "iopub.status.idle": "2023-08-13T12:42:39.937783Z",
     "shell.execute_reply": "2023-08-13T12:42:39.936682Z"
    },
    "papermill": {
     "duration": 0.558731,
     "end_time": "2023-08-13T12:42:39.940322",
     "exception": false,
     "start_time": "2023-08-13T12:42:39.381591",
     "status": "completed"
    },
    "tags": []
   },
   "outputs": [
    {
     "data": {
      "text/plain": [
       "<Axes: >"
      ]
     },
     "execution_count": 29,
     "metadata": {},
     "output_type": "execute_result"
    },
    {
     "data": {
      "image/png": "[encoded data removed]",
      "text/plain": [
       "<Figure size 640x480 with 2 Axes>"
      ]
     },
     "metadata": {},
     "output_type": "display_data"
    }
   ],
   "source": [
    "sns.heatmap(X.corr(numeric_only = True),annot = True)"
   ]
  },
  {
   "cell_type": "code",
   "execution_count": 30,
   "id": "bd14cbb1",
   "metadata": {
    "execution": {
     "iopub.execute_input": "2023-08-13T12:42:39.992027Z",
     "iopub.status.busy": "2023-08-13T12:42:39.991037Z",
     "iopub.status.idle": "2023-08-13T12:42:40.112803Z",
     "shell.execute_reply": "2023-08-13T12:42:40.111865Z"
    },
    "papermill": {
     "duration": 0.150601,
     "end_time": "2023-08-13T12:42:40.115365",
     "exception": false,
     "start_time": "2023-08-13T12:42:39.964764",
     "status": "completed"
    },
    "tags": []
   },
   "outputs": [],
   "source": [
    "# splitting the data into train set and validation set.\n",
    "X_train,X_test,y_train,y_test= tts(X,y,random_state = 42,test_size = 0.33)"
   ]
  },
  {
   "cell_type": "code",
   "execution_count": 31,
   "id": "85688afd",
   "metadata": {
    "execution": {
     "iopub.execute_input": "2023-08-13T12:42:40.166728Z",
     "iopub.status.busy": "2023-08-13T12:42:40.166366Z",
     "iopub.status.idle": "2023-08-13T12:42:40.172835Z",
     "shell.execute_reply": "2023-08-13T12:42:40.171842Z"
    },
    "papermill": {
     "duration": 0.034705,
     "end_time": "2023-08-13T12:42:40.175058",
     "exception": false,
     "start_time": "2023-08-13T12:42:40.140353",
     "status": "completed"
    },
    "tags": []
   },
   "outputs": [],
   "source": [
    "num_col = X.select_dtypes(include=['number']).columns.tolist()"
   ]
  },
  {
   "cell_type": "code",
   "execution_count": 32,
   "id": "dd0ced04",
   "metadata": {
    "execution": {
     "iopub.execute_input": "2023-08-13T12:42:40.225751Z",
     "iopub.status.busy": "2023-08-13T12:42:40.225377Z",
     "iopub.status.idle": "2023-08-13T12:42:40.254623Z",
     "shell.execute_reply": "2023-08-13T12:42:40.253554Z"
    },
    "papermill": {
     "duration": 0.057557,
     "end_time": "2023-08-13T12:42:40.257154",
     "exception": false,
     "start_time": "2023-08-13T12:42:40.199597",
     "status": "completed"
    },
    "tags": []
   },
   "outputs": [],
   "source": [
    "#MinMaxScaler\n",
    "from sklearn.preprocessing import MinMaxScaler\n",
    "mmscale = MinMaxScaler()\n",
    "X_train[num_col] = mmscale.fit_transform(X_train[num_col])\n",
    "X_test[num_col] = mmscale.transform(X_test[num_col])\n",
    "test_data[num_col] = mmscale.transform(test_data[num_col])"
   ]
  },
  {
   "cell_type": "code",
   "execution_count": 33,
   "id": "3cfd9ea7",
   "metadata": {
    "execution": {
     "iopub.execute_input": "2023-08-13T12:42:40.309072Z",
     "iopub.status.busy": "2023-08-13T12:42:40.308703Z",
     "iopub.status.idle": "2023-08-13T12:54:01.697964Z",
     "shell.execute_reply": "2023-08-13T12:54:01.696764Z"
    },
    "papermill": {
     "duration": 681.418622,
     "end_time": "2023-08-13T12:54:01.700915",
     "exception": false,
     "start_time": "2023-08-13T12:42:40.282293",
     "status": "completed"
    },
    "tags": []
   },
   "outputs": [],
   "source": [
    "#imputing the null values of numerical features using K-Nearest Neighbours Imputer.\n",
    "from sklearn.impute import KNNImputer\n",
    "kimp = KNNImputer(n_neighbors = 5)\n",
    "to_imp = X_train.select_dtypes(include=['number']).columns.tolist()\n",
    "X_train[to_imp] = kimp.fit_transform(X_train[to_imp])\n",
    "X_test[to_imp] = kimp.transform(X_test[to_imp])\n",
    "test_data[to_imp] = kimp.transform(test_data[to_imp])"
   ]
  },
  {
   "cell_type": "code",
   "execution_count": 34,
   "id": "61d35bfa",
   "metadata": {
    "execution": {
     "iopub.execute_input": "2023-08-13T12:54:01.751958Z",
     "iopub.status.busy": "2023-08-13T12:54:01.751338Z",
     "iopub.status.idle": "2023-08-13T12:54:01.807220Z",
     "shell.execute_reply": "2023-08-13T12:54:01.806411Z"
    },
    "papermill": {
     "duration": 0.084181,
     "end_time": "2023-08-13T12:54:01.809637",
     "exception": false,
     "start_time": "2023-08-13T12:54:01.725456",
     "status": "completed"
    },
    "tags": []
   },
   "outputs": [],
   "source": [
    "X_train.drop(['isTopReviewer/Critic','relyearT','relyearS'],axis = 1,inplace = True )\n",
    "X_test.drop(['isTopReviewer/Critic','relyearT','relyearS'],axis = 1,inplace = True )\n",
    "test_data.drop(['isTopReviewer/Critic','relyearT','relyearS'],axis = 1,inplace = True)"
   ]
  },
  {
   "cell_type": "code",
   "execution_count": 35,
   "id": "78ab6f2e",
   "metadata": {
    "execution": {
     "iopub.execute_input": "2023-08-13T12:54:01.861390Z",
     "iopub.status.busy": "2023-08-13T12:54:01.860750Z",
     "iopub.status.idle": "2023-08-13T12:54:01.912588Z",
     "shell.execute_reply": "2023-08-13T12:54:01.911518Z"
    },
    "papermill": {
     "duration": 0.080746,
     "end_time": "2023-08-13T12:54:01.915172",
     "exception": false,
     "start_time": "2023-08-13T12:54:01.834426",
     "status": "completed"
    },
    "tags": []
   },
   "outputs": [],
   "source": [
    "X_train.drop(['soundType'],axis = 1,inplace = True )\n",
    "X_test.drop(['soundType'],axis = 1,inplace = True )\n",
    "test_data.drop(['soundType'],axis = 1,inplace = True)"
   ]
  },
  {
   "cell_type": "code",
   "execution_count": 36,
   "id": "f5b4035e",
   "metadata": {
    "execution": {
     "iopub.execute_input": "2023-08-13T12:54:01.967710Z",
     "iopub.status.busy": "2023-08-13T12:54:01.967332Z",
     "iopub.status.idle": "2023-08-13T12:54:31.806944Z",
     "shell.execute_reply": "2023-08-13T12:54:31.805886Z"
    },
    "papermill": {
     "duration": 29.869143,
     "end_time": "2023-08-13T12:54:31.809788",
     "exception": false,
     "start_time": "2023-08-13T12:54:01.940645",
     "status": "completed"
    },
    "tags": []
   },
   "outputs": [],
   "source": [
    "from sklearn.compose import ColumnTransformer\n",
    "from sklearn.preprocessing import OneHotEncoder\n",
    "from sklearn.preprocessing import OrdinalEncoder\n",
    "from sklearn.feature_extraction.text import TfidfVectorizer\n",
    "from sklearn.feature_extraction.text import CountVectorizer\n",
    "ohe_list = ['movieid','reviewerName','originalLanguage']\n",
    "transformers = [(\"ohe\",OneHotEncoder(handle_unknown = 'ignore'),ohe_list),\n",
    "                (\"tfid\",TfidfVectorizer(ngram_range= (1,2)),'reviewText'),\n",
    "                (\"tfid_2\",TfidfVectorizer(),'ratingContents'),\n",
    "                (\"tfid_3\",TfidfVectorizer(),'genre'),\n",
    "                (\"tfid_4\",TfidfVectorizer(),'title'),\n",
    "                (\"tfid_6\",TfidfVectorizer(),'distributor'),\n",
    "                (\"tfid_7\",TfidfVectorizer(),'director'),\n",
    "                (\"tfid_8\",TfidfVectorizer(),'rating'),\n",
    "                #(\"tfid_9\",TfidfVectorizer(),)\n",
    "                #('orenc',OrdinalEncoder(handle_unknown = 'use_encoded_value',unknown_value = np.nan),['rating']),\n",
    "               ]\n",
    "ct = ColumnTransformer(transformers,remainder = \"passthrough\")\n",
    "X_train_enc = ct.fit_transform(X_train)\n",
    "X_test_enc = ct.transform(X_test)\n",
    "test_enc = ct.transform(test_data)"
   ]
  },
  {
   "cell_type": "code",
   "execution_count": 37,
   "id": "753c615b",
   "metadata": {
    "execution": {
     "iopub.execute_input": "2023-08-13T12:54:31.861704Z",
     "iopub.status.busy": "2023-08-13T12:54:31.861020Z",
     "iopub.status.idle": "2023-08-13T12:54:34.319063Z",
     "shell.execute_reply": "2023-08-13T12:54:34.317928Z"
    },
    "papermill": {
     "duration": 2.486899,
     "end_time": "2023-08-13T12:54:34.321654",
     "exception": false,
     "start_time": "2023-08-13T12:54:31.834755",
     "status": "completed"
    },
    "tags": []
   },
   "outputs": [],
   "source": [
    "from sklearn.feature_selection import VarianceThreshold\n",
    "from sklearn.feature_selection import SelectPercentile\n",
    "from sklearn.pipeline import Pipeline\n",
    "vts = VarianceThreshold()\n",
    "skp = SelectPercentile(percentile = 55)\n",
    "pipe = Pipeline(steps = [(\"vts\",vts),(\"skp\",skp)])\n",
    "X_train_enc = pipe.fit_transform(X_train_enc,y_train)\n",
    "X_test_enc = pipe.transform(X_test_enc)\n",
    "test_enc = pipe.transform(test_enc)"
   ]
  },
  {
   "cell_type": "code",
   "execution_count": 38,
   "id": "26f81890",
   "metadata": {
    "execution": {
     "iopub.execute_input": "2023-08-13T12:54:34.373863Z",
     "iopub.status.busy": "2023-08-13T12:54:34.372862Z",
     "iopub.status.idle": "2023-08-13T12:54:34.378506Z",
     "shell.execute_reply": "2023-08-13T12:54:34.377481Z"
    },
    "papermill": {
     "duration": 0.03535,
     "end_time": "2023-08-13T12:54:34.381962",
     "exception": false,
     "start_time": "2023-08-13T12:54:34.346612",
     "status": "completed"
    },
    "tags": []
   },
   "outputs": [
    {
     "name": "stdout",
     "output_type": "stream",
     "text": [
      "(104728, 453395)\n"
     ]
    }
   ],
   "source": [
    "print(X_train_enc.shape)"
   ]
  },
  {
   "cell_type": "markdown",
   "id": "8b795ecb",
   "metadata": {
    "papermill": {
     "duration": 0.02554,
     "end_time": "2023-08-13T12:54:34.433195",
     "exception": false,
     "start_time": "2023-08-13T12:54:34.407655",
     "status": "completed"
    },
    "tags": []
   },
   "source": [
    "# ****ML Model Training****"
   ]
  },
  {
   "cell_type": "markdown",
   "id": "58a78b99",
   "metadata": {
    "papermill": {
     "duration": 0.024772,
     "end_time": "2023-08-13T12:54:34.483172",
     "exception": false,
     "start_time": "2023-08-13T12:54:34.458400",
     "status": "completed"
    },
    "tags": []
   },
   "source": [
    "> In This Stage :\n",
    "> * 3 Best Performing Models (In Terms of accuracy of both labels) were trained with some parameters initially, The Models We Trained :\n",
    "\n",
    "> 1. Logistic Regression :  Logistic Regression ,also known as logit model is a machine learning algorithm often used for binary classification and predictive analytics.In This project,Logistic regression is estimating the probability of getting NEGATIVE or POSITIVE sentiment, based on critics reviews and other features.\n",
    "\n",
    "> 2. Linear SVC :  It is Linear Support Vector Classification. It is similar to SVC having kernel = ‘linear’. The difference between them is that LinearSVC implemented in terms of library called liblinear while SVC is implemented in libsvm.The main goal of LinearSVC is to divide the dataset into number of classes (in our case 2 classes) in order to find a maximum marginal hyperplane (MMH) which seperates sepeartes classes and classify unseen data accordingly.\n",
    "\n",
    "> 3. SGDClassifier : SGDClassifier is a classification algorithm used in machine learning that belongs to the family of linear models. The fitting algorithm Stochastic Gradient Descent (SGD) finds the optimal coefficients of the linear classifiers by updating the model’s parameters using the gradient of the loss function. The algorithm is beneficial for handling large-scale datasets, as it updates the model parameters on samples of observations rather than using the entire dataset, which can be computationally expensive.\n",
    "\n"
   ]
  },
  {
   "cell_type": "code",
   "execution_count": 39,
   "id": "1afe9313",
   "metadata": {
    "execution": {
     "iopub.execute_input": "2023-08-13T12:54:34.535828Z",
     "iopub.status.busy": "2023-08-13T12:54:34.534948Z",
     "iopub.status.idle": "2023-08-13T12:54:34.540645Z",
     "shell.execute_reply": "2023-08-13T12:54:34.539589Z"
    },
    "papermill": {
     "duration": 0.034337,
     "end_time": "2023-08-13T12:54:34.542943",
     "exception": false,
     "start_time": "2023-08-13T12:54:34.508606",
     "status": "completed"
    },
    "tags": []
   },
   "outputs": [],
   "source": [
    "#importing necessary libraries\n",
    "from sklearn.linear_model import LogisticRegression\n",
    "from sklearn.linear_model import SGDClassifier\n",
    "from sklearn.metrics import classification_report\n",
    "from sklearn.metrics import confusion_matrix, ConfusionMatrixDisplay\n",
    "from sklearn.svm import LinearSVC"
   ]
  },
  {
   "cell_type": "code",
   "execution_count": 40,
   "id": "4b6030a0",
   "metadata": {
    "execution": {
     "iopub.execute_input": "2023-08-13T12:54:34.595666Z",
     "iopub.status.busy": "2023-08-13T12:54:34.595250Z",
     "iopub.status.idle": "2023-08-13T12:55:43.225642Z",
     "shell.execute_reply": "2023-08-13T12:55:43.224596Z"
    },
    "papermill": {
     "duration": 68.684612,
     "end_time": "2023-08-13T12:55:43.253093",
     "exception": false,
     "start_time": "2023-08-13T12:54:34.568481",
     "status": "completed"
    },
    "tags": []
   },
   "outputs": [
    {
     "data": {
      "text/plain": [
       "0.8396370897388674"
      ]
     },
     "execution_count": 40,
     "metadata": {},
     "output_type": "execute_result"
    }
   ],
   "source": [
    "lr1 = LogisticRegression(solver = 'liblinear',C = 6,max_iter = 20000,random_state = 42)\n",
    "lr1.fit(X_train_enc,y_train)\n",
    "lr1.score(X_test_enc,y_test)"
   ]
  },
  {
   "cell_type": "code",
   "execution_count": 41,
   "id": "a25df30e",
   "metadata": {
    "execution": {
     "iopub.execute_input": "2023-08-13T12:55:43.305842Z",
     "iopub.status.busy": "2023-08-13T12:55:43.305464Z",
     "iopub.status.idle": "2023-08-13T12:55:47.761050Z",
     "shell.execute_reply": "2023-08-13T12:55:47.759140Z"
    },
    "papermill": {
     "duration": 4.48523,
     "end_time": "2023-08-13T12:55:47.764056",
     "exception": false,
     "start_time": "2023-08-13T12:55:43.278826",
     "status": "completed"
    },
    "tags": []
   },
   "outputs": [
    {
     "name": "stdout",
     "output_type": "stream",
     "text": [
      "              precision    recall  f1-score   support\n",
      "\n",
      "    POSITIVE       0.86      0.91      0.88     34617\n",
      "    NEGATIVE       0.79      0.69      0.74     16966\n",
      "\n",
      "    accuracy                           0.84     51583\n",
      "   macro avg       0.83      0.80      0.81     51583\n",
      "weighted avg       0.84      0.84      0.84     51583\n",
      "\n"
     ]
    }
   ],
   "source": [
    "y_pred_lr = lr1.predict(X_test_enc)\n",
    "labels = ['POSITIVE', 'NEGATIVE']\n",
    "print(classification_report(y_test, y_pred_lr, labels=labels))"
   ]
  },
  {
   "cell_type": "code",
   "execution_count": 42,
   "id": "e734d780",
   "metadata": {
    "execution": {
     "iopub.execute_input": "2023-08-13T12:55:47.819742Z",
     "iopub.status.busy": "2023-08-13T12:55:47.819320Z",
     "iopub.status.idle": "2023-08-13T12:55:48.447658Z",
     "shell.execute_reply": "2023-08-13T12:55:48.446356Z"
    },
    "papermill": {
     "duration": 0.659663,
     "end_time": "2023-08-13T12:55:48.450527",
     "exception": false,
     "start_time": "2023-08-13T12:55:47.790864",
     "status": "completed"
    },
    "tags": []
   },
   "outputs": [
    {
     "data": {
      "image/png": "[encoded data removed]",
      "text/plain": [
       "<Figure size 640x480 with 2 Axes>"
      ]
     },
     "metadata": {},
     "output_type": "display_data"
    }
   ],
   "source": [
    "cm_lr= confusion_matrix(y_test, y_pred_lr, labels=labels)\n",
    "disp_lr = ConfusionMatrixDisplay(confusion_matrix=cm_lr,display_labels=labels)\n",
    "disp_lr.plot()\n",
    "plt.show()"
   ]
  },
  {
   "cell_type": "code",
   "execution_count": 43,
   "id": "041873fd",
   "metadata": {
    "execution": {
     "iopub.execute_input": "2023-08-13T12:55:48.509447Z",
     "iopub.status.busy": "2023-08-13T12:55:48.508977Z",
     "iopub.status.idle": "2023-08-13T12:55:58.437373Z",
     "shell.execute_reply": "2023-08-13T12:55:58.436526Z"
    },
    "papermill": {
     "duration": 9.960726,
     "end_time": "2023-08-13T12:55:58.439516",
     "exception": false,
     "start_time": "2023-08-13T12:55:48.478790",
     "status": "completed"
    },
    "tags": []
   },
   "outputs": [
    {
     "data": {
      "text/plain": [
       "0.8404513114785879"
      ]
     },
     "execution_count": 43,
     "metadata": {},
     "output_type": "execute_result"
    }
   ],
   "source": [
    "lsvc = LinearSVC(C =.33,max_iter = 30000,tol = 1e-10, dual = True)\n",
    "lsvc.fit(X_train_enc,y_train)\n",
    "lsvc.score(X_test_enc,y_test)"
   ]
  },
  {
   "cell_type": "code",
   "execution_count": 44,
   "id": "82917e4c",
   "metadata": {
    "execution": {
     "iopub.execute_input": "2023-08-13T12:55:58.494048Z",
     "iopub.status.busy": "2023-08-13T12:55:58.493682Z",
     "iopub.status.idle": "2023-08-13T12:56:02.979517Z",
     "shell.execute_reply": "2023-08-13T12:56:02.978325Z"
    },
    "papermill": {
     "duration": 4.516054,
     "end_time": "2023-08-13T12:56:02.982096",
     "exception": false,
     "start_time": "2023-08-13T12:55:58.466042",
     "status": "completed"
    },
    "tags": []
   },
   "outputs": [
    {
     "name": "stdout",
     "output_type": "stream",
     "text": [
      "              precision    recall  f1-score   support\n",
      "\n",
      "    POSITIVE       0.86      0.91      0.88     34617\n",
      "    NEGATIVE       0.79      0.69      0.74     16966\n",
      "\n",
      "    accuracy                           0.84     51583\n",
      "   macro avg       0.83      0.80      0.81     51583\n",
      "weighted avg       0.84      0.84      0.84     51583\n",
      "\n"
     ]
    }
   ],
   "source": [
    "y_pred_lsvc = lsvc.predict(X_test_enc)\n",
    "labels = ['POSITIVE', 'NEGATIVE']\n",
    "print(classification_report(y_test, y_pred_lsvc, labels=labels))"
   ]
  },
  {
   "cell_type": "code",
   "execution_count": 45,
   "id": "dce82ea4",
   "metadata": {
    "execution": {
     "iopub.execute_input": "2023-08-13T12:56:03.037899Z",
     "iopub.status.busy": "2023-08-13T12:56:03.037541Z",
     "iopub.status.idle": "2023-08-13T12:56:03.642077Z",
     "shell.execute_reply": "2023-08-13T12:56:03.640853Z"
    },
    "papermill": {
     "duration": 0.634891,
     "end_time": "2023-08-13T12:56:03.644601",
     "exception": false,
     "start_time": "2023-08-13T12:56:03.009710",
     "status": "completed"
    },
    "tags": []
   },
   "outputs": [
    {
     "data": {
      "image/png": "[encoded data removed]",
      "text/plain": [
       "<Figure size 640x480 with 2 Axes>"
      ]
     },
     "metadata": {},
     "output_type": "display_data"
    }
   ],
   "source": [
    "cm_lsvc= confusion_matrix(y_test, y_pred_lsvc, labels=labels)\n",
    "disp_lsvc = ConfusionMatrixDisplay(confusion_matrix=cm_lsvc,display_labels=labels)\n",
    "disp_lsvc.plot()\n",
    "plt.show()"
   ]
  },
  {
   "cell_type": "code",
   "execution_count": 46,
   "id": "6d969317",
   "metadata": {
    "execution": {
     "iopub.execute_input": "2023-08-13T12:56:03.701964Z",
     "iopub.status.busy": "2023-08-13T12:56:03.701587Z",
     "iopub.status.idle": "2023-08-13T12:56:05.435669Z",
     "shell.execute_reply": "2023-08-13T12:56:05.434487Z"
    },
    "papermill": {
     "duration": 1.76588,
     "end_time": "2023-08-13T12:56:05.437970",
     "exception": false,
     "start_time": "2023-08-13T12:56:03.672090",
     "status": "completed"
    },
    "tags": []
   },
   "outputs": [
    {
     "data": {
      "text/plain": [
       "0.8324060252408739"
      ]
     },
     "execution_count": 46,
     "metadata": {},
     "output_type": "execute_result"
    }
   ],
   "source": [
    "sgd_clf = SGDClassifier(loss = 'modified_huber')\n",
    "sgd_clf.fit(X_train_enc,y_train)\n",
    "sgd_clf.score(X_test_enc,y_test)"
   ]
  },
  {
   "cell_type": "code",
   "execution_count": 47,
   "id": "2e1bb2dd",
   "metadata": {
    "execution": {
     "iopub.execute_input": "2023-08-13T12:56:05.498833Z",
     "iopub.status.busy": "2023-08-13T12:56:05.498454Z",
     "iopub.status.idle": "2023-08-13T12:56:09.162203Z",
     "shell.execute_reply": "2023-08-13T12:56:09.161032Z"
    },
    "papermill": {
     "duration": 3.69954,
     "end_time": "2023-08-13T12:56:09.165166",
     "exception": false,
     "start_time": "2023-08-13T12:56:05.465626",
     "status": "completed"
    },
    "tags": []
   },
   "outputs": [
    {
     "name": "stdout",
     "output_type": "stream",
     "text": [
      "              precision    recall  f1-score   support\n",
      "\n",
      "    POSITIVE       0.86      0.89      0.88     34617\n",
      "    NEGATIVE       0.76      0.71      0.74     16966\n",
      "\n",
      "    accuracy                           0.83     51583\n",
      "   macro avg       0.81      0.80      0.81     51583\n",
      "weighted avg       0.83      0.83      0.83     51583\n",
      "\n"
     ]
    }
   ],
   "source": [
    "y_pred_sgd = sgd_clf.predict(X_test_enc)\n",
    "labels = ['POSITIVE', 'NEGATIVE']\n",
    "print(classification_report(y_test, y_pred_sgd, labels=labels))"
   ]
  },
  {
   "cell_type": "code",
   "execution_count": 48,
   "id": "e132727e",
   "metadata": {
    "execution": {
     "iopub.execute_input": "2023-08-13T12:56:09.224518Z",
     "iopub.status.busy": "2023-08-13T12:56:09.224124Z",
     "iopub.status.idle": "2023-08-13T12:56:09.848992Z",
     "shell.execute_reply": "2023-08-13T12:56:09.847712Z"
    },
    "papermill": {
     "duration": 0.657563,
     "end_time": "2023-08-13T12:56:09.851478",
     "exception": false,
     "start_time": "2023-08-13T12:56:09.193915",
     "status": "completed"
    },
    "tags": []
   },
   "outputs": [
    {
     "data": {
      "image/png": "[encoded data removed]",
      "text/plain": [
       "<Figure size 640x480 with 2 Axes>"
      ]
     },
     "metadata": {},
     "output_type": "display_data"
    }
   ],
   "source": [
    "cm_sgd= confusion_matrix(y_test, y_pred_sgd, labels=labels)\n",
    "disp_sgd = ConfusionMatrixDisplay(confusion_matrix=cm_sgd,display_labels=labels)\n",
    "disp_sgd.plot()\n",
    "plt.show()"
   ]
  },
  {
   "cell_type": "markdown",
   "id": "201b497c",
   "metadata": {
    "papermill": {
     "duration": 0.027698,
     "end_time": "2023-08-13T12:56:09.907238",
     "exception": false,
     "start_time": "2023-08-13T12:56:09.879540",
     "status": "completed"
    },
    "tags": []
   },
   "source": [
    "# Hyper Parameter Tuning."
   ]
  },
  {
   "cell_type": "markdown",
   "id": "ee090d66",
   "metadata": {
    "papermill": {
     "duration": 0.027288,
     "end_time": "2023-08-13T12:56:09.962948",
     "exception": false,
     "start_time": "2023-08-13T12:56:09.935660",
     "status": "completed"
    },
    "tags": []
   },
   "source": [
    "Tuning important parameters of best two models :\n",
    "* 1.Logistic Regression.\n",
    "* 2.Linear SVM."
   ]
  },
  {
   "cell_type": "code",
   "execution_count": 49,
   "id": "c15a93c7",
   "metadata": {
    "execution": {
     "iopub.execute_input": "2023-08-13T12:56:10.021114Z",
     "iopub.status.busy": "2023-08-13T12:56:10.020680Z",
     "iopub.status.idle": "2023-08-13T12:56:10.025659Z",
     "shell.execute_reply": "2023-08-13T12:56:10.024768Z"
    },
    "papermill": {
     "duration": 0.036873,
     "end_time": "2023-08-13T12:56:10.027690",
     "exception": false,
     "start_time": "2023-08-13T12:56:09.990817",
     "status": "completed"
    },
    "tags": []
   },
   "outputs": [],
   "source": [
    "from sklearn.model_selection import RandomizedSearchCV\n",
    "from sklearn.model_selection import GridSearchCV"
   ]
  },
  {
   "cell_type": "code",
   "execution_count": 50,
   "id": "88b8eee4",
   "metadata": {
    "execution": {
     "iopub.execute_input": "2023-08-13T12:56:10.085713Z",
     "iopub.status.busy": "2023-08-13T12:56:10.085323Z",
     "iopub.status.idle": "2023-08-13T13:02:46.943324Z",
     "shell.execute_reply": "2023-08-13T13:02:46.942346Z"
    },
    "papermill": {
     "duration": 396.917944,
     "end_time": "2023-08-13T13:02:46.973622",
     "exception": false,
     "start_time": "2023-08-13T12:56:10.055678",
     "status": "completed"
    },
    "tags": []
   },
   "outputs": [
    {
     "data": {
      "text/plain": [
       "0.838629005680166"
      ]
     },
     "execution_count": 50,
     "metadata": {},
     "output_type": "execute_result"
    }
   ],
   "source": [
    "param_grid1 = { 'C' : np.arange(5,15,0.5)}\n",
    "lrgv = GridSearchCV(LogisticRegression(solver = 'liblinear',max_iter = 40000,random_state = 42),cv = 2,scoring = 'f1_micro',n_jobs = -1,param_grid = param_grid1)\n",
    "lrgv.fit(X_train_enc,y_train)\n",
    "lrgv.score(X_test_enc,y_test)"
   ]
  },
  {
   "cell_type": "code",
   "execution_count": 51,
   "id": "f94b9105",
   "metadata": {
    "execution": {
     "iopub.execute_input": "2023-08-13T13:02:47.033575Z",
     "iopub.status.busy": "2023-08-13T13:02:47.032865Z",
     "iopub.status.idle": "2023-08-13T13:04:58.487300Z",
     "shell.execute_reply": "2023-08-13T13:04:58.486453Z"
    },
    "papermill": {
     "duration": 131.515879,
     "end_time": "2023-08-13T13:04:58.517978",
     "exception": false,
     "start_time": "2023-08-13T13:02:47.002099",
     "status": "completed"
    },
    "tags": []
   },
   "outputs": [
    {
     "data": {
      "text/plain": [
       "0.840102359304422"
      ]
     },
     "execution_count": 51,
     "metadata": {},
     "output_type": "execute_result"
    }
   ],
   "source": [
    "param_grid2 = { 'C' :np.arange(0.1,0.4,0.01)}\n",
    "lsgv = GridSearchCV(LinearSVC(max_iter = 40000,tol = 1e-10,dual = True),cv=2,scoring='f1_micro',n_jobs = -1,param_grid = param_grid2)\n",
    "lsgv.fit(X_train_enc,y_train)\n",
    "lsgv.score(X_test_enc,y_test)"
   ]
  },
  {
   "cell_type": "markdown",
   "id": "b2757992",
   "metadata": {
    "papermill": {
     "duration": 0.028152,
     "end_time": "2023-08-13T13:04:58.574667",
     "exception": false,
     "start_time": "2023-08-13T13:04:58.546515",
     "status": "completed"
    },
    "tags": []
   },
   "source": [
    "# ****Submitting To Competition****"
   ]
  },
  {
   "cell_type": "code",
   "execution_count": 52,
   "id": "24cffa5e",
   "metadata": {
    "execution": {
     "iopub.execute_input": "2023-08-13T13:04:58.633925Z",
     "iopub.status.busy": "2023-08-13T13:04:58.633207Z",
     "iopub.status.idle": "2023-08-13T13:04:58.650480Z",
     "shell.execute_reply": "2023-08-13T13:04:58.649234Z"
    },
    "papermill": {
     "duration": 0.049971,
     "end_time": "2023-08-13T13:04:58.653151",
     "exception": false,
     "start_time": "2023-08-13T13:04:58.603180",
     "status": "completed"
    },
    "tags": []
   },
   "outputs": [],
   "source": [
    "#predicting test data using best model.\n",
    "y_pred_final = lsvc.predict(test_enc)"
   ]
  },
  {
   "cell_type": "code",
   "execution_count": 53,
   "id": "b55a950c",
   "metadata": {
    "execution": {
     "iopub.execute_input": "2023-08-13T13:04:58.712029Z",
     "iopub.status.busy": "2023-08-13T13:04:58.711620Z",
     "iopub.status.idle": "2023-08-13T13:04:58.982746Z",
     "shell.execute_reply": "2023-08-13T13:04:58.981614Z"
    },
    "papermill": {
     "duration": 0.303746,
     "end_time": "2023-08-13T13:04:58.985537",
     "exception": false,
     "start_time": "2023-08-13T13:04:58.681791",
     "status": "completed"
    },
    "tags": []
   },
   "outputs": [],
   "source": [
    "#submitting the predictions of final model.\n",
    "submission = pd.DataFrame(columns = [\"id\",\"sentiment\"])\n",
    "submission[\"id\"] = [i for i in range(len(y_pred_final))]\n",
    "submission[\"sentiment\"] = y_pred_final\n",
    "submission.to_csv('submission.csv',index = False)"
   ]
  },
  {
   "cell_type": "markdown",
   "id": "9bf8802e",
   "metadata": {
    "papermill": {
     "duration": 0.028611,
     "end_time": "2023-08-13T13:04:59.042906",
     "exception": false,
     "start_time": "2023-08-13T13:04:59.014295",
     "status": "completed"
    },
    "tags": []
   },
   "source": [
    "# **The End**"
   ]
  }
 ],
 "metadata": {
  "kernelspec": {
   "display_name": "Python 3",
   "language": "python",
   "name": "python3"
  },
  "language_info": {
   "codemirror_mode": {
    "name": "ipython",
    "version": 3
   },
   "file_extension": ".py",
   "mimetype": "text/x-python",
   "name": "python",
   "nbconvert_exporter": "python",
   "pygments_lexer": "ipython3",
   "version": "3.10.10"
  },
  "papermill": {
   "default_parameters": {},
   "duration": 1402.206053,
   "end_time": "2023-08-13T13:05:01.697919",
   "environment_variables": {},
   "exception": null,
   "input_path": "__notebook__.ipynb",
   "output_path": "__notebook__.ipynb",
   "parameters": {},
   "start_time": "2023-08-13T12:41:39.491866",
   "version": "2.4.0"
  }
 },
 "nbformat": 4,
 "nbformat_minor": 5
}
